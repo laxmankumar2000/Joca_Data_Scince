{
  "nbformat": 4,
  "nbformat_minor": 0,
  "metadata": {
    "colab": {
      "name": "Jovac_Data_Science_Assignment_Laxman_Kumar_Vashist_191500429.ipynb",
      "provenance": [],
      "collapsed_sections": [],
      "authorship_tag": "ABX9TyNxrknq00iwxMAnTOEB9i0A",
      "include_colab_link": true
    },
    "kernelspec": {
      "name": "python3",
      "display_name": "Python 3"
    },
    "language_info": {
      "name": "python"
    }
  },
  "cells": [
    {
      "cell_type": "markdown",
      "metadata": {
        "id": "view-in-github",
        "colab_type": "text"
      },
      "source": [
        "<a href=\"https://colab.research.google.com/github/laxmankumar2000/Jovac_Data_Science/blob/main/Jovac_Data_Science_Assignment_Laxman_Kumar_Vashist_191500429.ipynb\" target=\"_parent\"><img src=\"https://colab.research.google.com/assets/colab-badge.svg\" alt=\"Open In Colab\"/></a>"
      ]
    },
    {
      "cell_type": "code",
      "metadata": {
        "colab": {
          "base_uri": "https://localhost:8080/"
        },
        "id": "gjRlvxK014cN",
        "outputId": "e865e933-d4b6-434c-a9e5-f15cfe804e8b"
      },
      "source": [
        "!pip install pyspark\n"
      ],
      "execution_count": 1,
      "outputs": [
        {
          "output_type": "stream",
          "text": [
            "Collecting pyspark\n",
            "  Downloading pyspark-3.1.2.tar.gz (212.4 MB)\n",
            "\u001b[K     |████████████████████████████████| 212.4 MB 69 kB/s \n",
            "\u001b[?25hCollecting py4j==0.10.9\n",
            "  Downloading py4j-0.10.9-py2.py3-none-any.whl (198 kB)\n",
            "\u001b[K     |████████████████████████████████| 198 kB 60.7 MB/s \n",
            "\u001b[?25hBuilding wheels for collected packages: pyspark\n",
            "  Building wheel for pyspark (setup.py) ... \u001b[?25l\u001b[?25hdone\n",
            "  Created wheel for pyspark: filename=pyspark-3.1.2-py2.py3-none-any.whl size=212880768 sha256=6e711b0d0128a0e0646bbc5f20c9c852e555f257eb6b9244807c0648194e4936\n",
            "  Stored in directory: /root/.cache/pip/wheels/a5/0a/c1/9561f6fecb759579a7d863dcd846daaa95f598744e71b02c77\n",
            "Successfully built pyspark\n",
            "Installing collected packages: py4j, pyspark\n",
            "Successfully installed py4j-0.10.9 pyspark-3.1.2\n"
          ],
          "name": "stdout"
        }
      ]
    },
    {
      "cell_type": "code",
      "metadata": {
        "colab": {
          "base_uri": "https://localhost:8080/"
        },
        "id": "Mr2rrLZB2VSZ",
        "outputId": "cf355d09-72ba-4b76-e408-9e0784c540ac"
      },
      "source": [
        "import sys\n",
        "from pyspark.sql import SparkSession\n",
        "from pyspark.sql.functions import count\n",
        "\n",
        "\n",
        "\n",
        "if __name__ == \"__main__\":\n",
        "  if len(sys.argv)!=2:\n",
        "    try:\n",
        "      print(\"Usage : mnmcount<file>\",file=sys.stderr)\n",
        "    except IOError:\n",
        "      sys.exit(-1) "
      ],
      "execution_count": 3,
      "outputs": [
        {
          "output_type": "stream",
          "text": [
            "Usage : mnmcount<file>\n"
          ],
          "name": "stderr"
        }
      ]
    },
    {
      "cell_type": "code",
      "metadata": {
        "id": "1TQQtL8k2jUQ"
      },
      "source": [
        "spark=(SparkSession\n",
        "       .builder\n",
        "       .appName(\"PythonMnMCount\")\n",
        "       .getOrCreate())\n",
        "mnm_file=sys.argv[1]"
      ],
      "execution_count": 4,
      "outputs": []
    },
    {
      "cell_type": "code",
      "metadata": {
        "id": "MUKRpbIf2sEe"
      },
      "source": [
        "!wget -q https://raw.githubusercontent.com/databricks/LearningSparkV2/master/chapter2/py/src/data/mnm_dataset.csv\n"
      ],
      "execution_count": 12,
      "outputs": []
    },
    {
      "cell_type": "code",
      "metadata": {
        "colab": {
          "base_uri": "https://localhost:8080/"
        },
        "id": "06bicgTj7VgF",
        "outputId": "207cdaf8-367a-43a1-a1b3-96c07d2b61ad"
      },
      "source": [
        "!ls"
      ],
      "execution_count": 13,
      "outputs": [
        {
          "output_type": "stream",
          "text": [
            "mnm_dataset.csv  sample_data\n"
          ],
          "name": "stdout"
        }
      ]
    },
    {
      "cell_type": "code",
      "metadata": {
        "colab": {
          "base_uri": "https://localhost:8080/"
        },
        "id": "lNnlUh2V7Yxw",
        "outputId": "c912ea2f-6c6c-442d-c9e3-02ffd2f7e489"
      },
      "source": [
        "!head   mnm_dataset.csv"
      ],
      "execution_count": 14,
      "outputs": [
        {
          "output_type": "stream",
          "text": [
            "State,Color,Count\r\n",
            "TX,Red,20\r\n",
            "NV,Blue,66\r\n",
            "CO,Blue,79\r\n",
            "OR,Blue,71\r\n",
            "WA,Yellow,93\r\n",
            "WY,Blue,16\r\n",
            "CA,Yellow,53\r\n",
            "WA,Green,60\r\n",
            "OR,Green,71\r\n"
          ],
          "name": "stdout"
        }
      ]
    },
    {
      "cell_type": "code",
      "metadata": {
        "id": "faOc86CE7dYq"
      },
      "source": [
        "import os"
      ],
      "execution_count": 15,
      "outputs": []
    },
    {
      "cell_type": "code",
      "metadata": {
        "id": "PlzPZlGj7gUR"
      },
      "source": [
        "os.environ[\"JAVA_HOME\"] = \"/usr/lib/jvm/java-8-openjdk-amd64\"\n",
        "os.environ[\"SPARK_HOME\"] = \"/content/mnm_dataset.csv\""
      ],
      "execution_count": 16,
      "outputs": []
    },
    {
      "cell_type": "code",
      "metadata": {
        "colab": {
          "base_uri": "https://localhost:8080/"
        },
        "id": "hWrZmkrd7mLf",
        "outputId": "6352aacb-ad8a-4884-c5c0-86ca5edc5e61"
      },
      "source": [
        "# Check path in SPARK_HOME\n",
        "print (os.environ[\"SPARK_HOME\"])"
      ],
      "execution_count": 17,
      "outputs": [
        {
          "output_type": "stream",
          "text": [
            "/content/mnm_dataset.csv\n"
          ],
          "name": "stdout"
        }
      ]
    },
    {
      "cell_type": "code",
      "metadata": {
        "id": "DABuy2pA7sOs"
      },
      "source": [
        "mnm_df  = spark.read.csv('mnm_dataset.csv',header=True)"
      ],
      "execution_count": 21,
      "outputs": []
    },
    {
      "cell_type": "code",
      "metadata": {
        "id": "wD3gwqZR77su"
      },
      "source": [
        "count_mnm_df=(mnm_df\n",
        "              .select(\"State\",\"Color\",\"Count\")\n",
        "              .groupBy(\"State\",\"Color\")\n",
        "              .agg(count(\"Count\").alias(\"Total\"))\n",
        "              .orderBy(\"Total\",ascending=False))"
      ],
      "execution_count": 22,
      "outputs": []
    },
    {
      "cell_type": "code",
      "metadata": {
        "colab": {
          "base_uri": "https://localhost:8080/"
        },
        "id": "qFm4BbBX8AxL",
        "outputId": "af9b77f6-0bd2-4fa0-d409-9ac5ffa9ff4f"
      },
      "source": [
        "count_mnm_df.show(n=60,truncate=False)\n",
        "print(\"Total Rows =%d\" % (count_mnm_df.count()))"
      ],
      "execution_count": 23,
      "outputs": [
        {
          "output_type": "stream",
          "text": [
            "+-----+------+-----+\n",
            "|State|Color |Total|\n",
            "+-----+------+-----+\n",
            "|CA   |Yellow|1807 |\n",
            "|WA   |Green |1779 |\n",
            "|OR   |Orange|1743 |\n",
            "|TX   |Green |1737 |\n",
            "|TX   |Red   |1725 |\n",
            "|CA   |Green |1723 |\n",
            "|CO   |Yellow|1721 |\n",
            "|CA   |Brown |1718 |\n",
            "|CO   |Green |1713 |\n",
            "|NV   |Orange|1712 |\n",
            "|TX   |Yellow|1703 |\n",
            "|NV   |Green |1698 |\n",
            "|AZ   |Brown |1698 |\n",
            "|WY   |Green |1695 |\n",
            "|CO   |Blue  |1695 |\n",
            "|NM   |Red   |1690 |\n",
            "|AZ   |Orange|1689 |\n",
            "|NM   |Yellow|1688 |\n",
            "|NM   |Brown |1687 |\n",
            "|UT   |Orange|1684 |\n",
            "|NM   |Green |1682 |\n",
            "|UT   |Red   |1680 |\n",
            "|AZ   |Green |1676 |\n",
            "|NV   |Yellow|1675 |\n",
            "|NV   |Blue  |1673 |\n",
            "|WA   |Red   |1671 |\n",
            "|WY   |Red   |1670 |\n",
            "|WA   |Brown |1669 |\n",
            "|NM   |Orange|1665 |\n",
            "|WY   |Blue  |1664 |\n",
            "|WA   |Yellow|1663 |\n",
            "|WA   |Orange|1658 |\n",
            "|CA   |Orange|1657 |\n",
            "|NV   |Brown |1657 |\n",
            "|CO   |Brown |1656 |\n",
            "|CA   |Red   |1656 |\n",
            "|UT   |Blue  |1655 |\n",
            "|AZ   |Yellow|1654 |\n",
            "|TX   |Orange|1652 |\n",
            "|AZ   |Red   |1648 |\n",
            "|OR   |Blue  |1646 |\n",
            "|OR   |Red   |1645 |\n",
            "|UT   |Yellow|1645 |\n",
            "|CO   |Orange|1642 |\n",
            "|TX   |Brown |1641 |\n",
            "|NM   |Blue  |1638 |\n",
            "|AZ   |Blue  |1636 |\n",
            "|OR   |Green |1634 |\n",
            "|UT   |Brown |1631 |\n",
            "|WY   |Yellow|1626 |\n",
            "|WA   |Blue  |1625 |\n",
            "|CO   |Red   |1624 |\n",
            "|OR   |Brown |1621 |\n",
            "|TX   |Blue  |1614 |\n",
            "|OR   |Yellow|1614 |\n",
            "|NV   |Red   |1610 |\n",
            "|CA   |Blue  |1603 |\n",
            "|WY   |Orange|1595 |\n",
            "|UT   |Green |1591 |\n",
            "|WY   |Brown |1532 |\n",
            "+-----+------+-----+\n",
            "\n",
            "Total Rows =60\n"
          ],
          "name": "stdout"
        }
      ]
    },
    {
      "cell_type": "code",
      "metadata": {
        "colab": {
          "base_uri": "https://localhost:8080/"
        },
        "id": "e6UAP4SM8Gku",
        "outputId": "8886a9db-a13d-40df-c12a-96b1406b0aa3"
      },
      "source": [
        "ca_count_mnm_df =(mnm_df\n",
        "                  .select(\"State\",\"Color\",\"Count\")\n",
        "                  .where(mnm_df.State==\"CA\")\n",
        "                  .groupBy(\"State\",\"Color\")\n",
        "                  .agg(count(\"Count\").alias(\"Total\"))\n",
        "                  .orderBy(\"Total\",ascending=False))\n",
        "ca_count_mnm_df.show(n=10,truncate=False)\n",
        "spark.stop()"
      ],
      "execution_count": 24,
      "outputs": [
        {
          "output_type": "stream",
          "text": [
            "+-----+------+-----+\n",
            "|State|Color |Total|\n",
            "+-----+------+-----+\n",
            "|CA   |Yellow|1807 |\n",
            "|CA   |Green |1723 |\n",
            "|CA   |Brown |1718 |\n",
            "|CA   |Orange|1657 |\n",
            "|CA   |Red   |1656 |\n",
            "|CA   |Blue  |1603 |\n",
            "+-----+------+-----+\n",
            "\n"
          ],
          "name": "stdout"
        }
      ]
    }
  ]
}